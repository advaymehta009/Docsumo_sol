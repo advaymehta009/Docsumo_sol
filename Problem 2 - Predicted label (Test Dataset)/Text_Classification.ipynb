{
 "cells": [
  {
   "cell_type": "code",
   "execution_count": 26,
   "id": "21f6d132",
   "metadata": {},
   "outputs": [
    {
     "name": "stderr",
     "output_type": "stream",
     "text": [
      "[nltk_data] Downloading package stopwords to\n",
      "[nltk_data]     C:\\Users\\advay\\AppData\\Roaming\\nltk_data...\n",
      "[nltk_data]   Package stopwords is already up-to-date!\n",
      "[nltk_data] Downloading package wordnet to\n",
      "[nltk_data]     C:\\Users\\advay\\AppData\\Roaming\\nltk_data...\n",
      "[nltk_data]   Package wordnet is already up-to-date!\n"
     ]
    }
   ],
   "source": [
    "import re\n",
    "import pandas as pd\n",
    "import matplotlib.pyplot as plt\n",
    "import seaborn as sns\n",
    "\n",
    "import nltk\n",
    "from nltk.stem import WordNetLemmatizer\n",
    "nltk.download('stopwords')\n",
    "nltk.download('wordnet')\n",
    "from nltk.corpus import stopwords\n",
    "\n",
    "\n",
    "from sklearn.feature_extraction.text import CountVectorizer, TfidfTransformer\n",
    "from sklearn.model_selection import train_test_split\n",
    "from sklearn.ensemble import RandomForestClassifier\n",
    "from sklearn.naive_bayes import MultinomialNB\n",
    "from sklearn.linear_model import LogisticRegression\n",
    "from sklearn.metrics import classification_report, confusion_matrix, accuracy_score\n",
    "from sklearn.model_selection import cross_val_score"
   ]
  },
  {
   "cell_type": "code",
   "execution_count": 27,
   "id": "b828accf",
   "metadata": {},
   "outputs": [
    {
     "data": {
      "text/html": [
       "<div>\n",
       "<style scoped>\n",
       "    .dataframe tbody tr th:only-of-type {\n",
       "        vertical-align: middle;\n",
       "    }\n",
       "\n",
       "    .dataframe tbody tr th {\n",
       "        vertical-align: top;\n",
       "    }\n",
       "\n",
       "    .dataframe thead th {\n",
       "        text-align: right;\n",
       "    }\n",
       "</style>\n",
       "<table border=\"1\" class=\"dataframe\">\n",
       "  <thead>\n",
       "    <tr style=\"text-align: right;\">\n",
       "      <th></th>\n",
       "      <th>label</th>\n",
       "      <th>text</th>\n",
       "    </tr>\n",
       "  </thead>\n",
       "  <tbody>\n",
       "    <tr>\n",
       "      <th>0</th>\n",
       "      <td>85389000</td>\n",
       "      <td>pdscpm gb part of panel of chiller</td>\n",
       "    </tr>\n",
       "    <tr>\n",
       "      <th>1</th>\n",
       "      <td>85389000</td>\n",
       "      <td>nm  p economical extended rot hand parts for circuit breaker captive consumption</td>\n",
       "    </tr>\n",
       "    <tr>\n",
       "      <th>2</th>\n",
       "      <td>85389000</td>\n",
       "      <td>lv ma pd trip unit for cvs parts of circuit breakers</td>\n",
       "    </tr>\n",
       "    <tr>\n",
       "      <th>3</th>\n",
       "      <td>85389000</td>\n",
       "      <td>lv na p trip unit for cvs switch parts of circuit breaker</td>\n",
       "    </tr>\n",
       "    <tr>\n",
       "      <th>4</th>\n",
       "      <td>85389000</td>\n",
       "      <td>lv tmd pd trip unit for cvs parts of circuitbreakers</td>\n",
       "    </tr>\n",
       "    <tr>\n",
       "      <th>...</th>\n",
       "      <td>...</td>\n",
       "      <td>...</td>\n",
       "    </tr>\n",
       "    <tr>\n",
       "      <th>23610</th>\n",
       "      <td>84713010</td>\n",
       "      <td>veav hp ids dsc gb iu for ddr  g base nb pchp laptophstnnqcr</td>\n",
       "    </tr>\n",
       "    <tr>\n",
       "      <th>23611</th>\n",
       "      <td>84713010</td>\n",
       "      <td>pgv inspiron  portable computernotebook assybasenbkiu pg meant for resale bis no</td>\n",
       "    </tr>\n",
       "    <tr>\n",
       "      <th>23612</th>\n",
       "      <td>84713010</td>\n",
       "      <td>xfuc acj eguuqnfinnnnnues india rmn hstnnic  notebook computer not sor sale</td>\n",
       "    </tr>\n",
       "    <tr>\n",
       "      <th>23613</th>\n",
       "      <td>84713010</td>\n",
       "      <td>nwg latitude  portable computernotebook assybaseumaiu pgbisr laptopnot</td>\n",
       "    </tr>\n",
       "    <tr>\n",
       "      <th>23614</th>\n",
       "      <td>84713010</td>\n",
       "      <td>rpp inspiron  portable computernotebook assybasekblmy pt bisr laptop</td>\n",
       "    </tr>\n",
       "  </tbody>\n",
       "</table>\n",
       "<p>23615 rows × 2 columns</p>\n",
       "</div>"
      ],
      "text/plain": [
       "          label  \\\n",
       "0      85389000   \n",
       "1      85389000   \n",
       "2      85389000   \n",
       "3      85389000   \n",
       "4      85389000   \n",
       "...         ...   \n",
       "23610  84713010   \n",
       "23611  84713010   \n",
       "23612  84713010   \n",
       "23613  84713010   \n",
       "23614  84713010   \n",
       "\n",
       "                                                                                    text  \n",
       "0       pdscpm gb part of panel of chiller                                                \n",
       "1      nm  p economical extended rot hand parts for circuit breaker captive consumption   \n",
       "2      lv ma pd trip unit for cvs parts of circuit breakers                               \n",
       "3      lv na p trip unit for cvs switch parts of circuit breaker                          \n",
       "4      lv tmd pd trip unit for cvs parts of circuitbreakers                               \n",
       "...                                                     ...                               \n",
       "23610  veav hp ids dsc gb iu for ddr  g base nb pchp laptophstnnqcr                       \n",
       "23611   pgv inspiron  portable computernotebook assybasenbkiu pg meant for resale bis no  \n",
       "23612  xfuc acj eguuqnfinnnnnues india rmn hstnnic  notebook computer not sor sale        \n",
       "23613   nwg latitude  portable computernotebook assybaseumaiu pgbisr laptopnot            \n",
       "23614   rpp inspiron  portable computernotebook assybasekblmy pt bisr laptop              \n",
       "\n",
       "[23615 rows x 2 columns]"
      ]
     },
     "execution_count": 27,
     "metadata": {},
     "output_type": "execute_result"
    }
   ],
   "source": [
    "df = pd.read_csv(\"train_set.csv\")\n",
    "df"
   ]
  },
  {
   "cell_type": "markdown",
   "id": "6a95b61e",
   "metadata": {},
   "source": [
    "### Dataset Analysis"
   ]
  },
  {
   "cell_type": "code",
   "execution_count": 28,
   "id": "47e6d27c",
   "metadata": {},
   "outputs": [
    {
     "data": {
      "text/plain": [
       "(23615, 2)"
      ]
     },
     "execution_count": 28,
     "metadata": {},
     "output_type": "execute_result"
    }
   ],
   "source": [
    "df.shape"
   ]
  },
  {
   "cell_type": "code",
   "execution_count": 29,
   "id": "ea417cb2",
   "metadata": {},
   "outputs": [
    {
     "data": {
      "text/plain": [
       "12"
      ]
     },
     "execution_count": 29,
     "metadata": {},
     "output_type": "execute_result"
    }
   ],
   "source": [
    "len(set(df['label']))"
   ]
  },
  {
   "cell_type": "code",
   "execution_count": 30,
   "id": "81036f0c",
   "metadata": {},
   "outputs": [
    {
     "data": {
      "text/plain": [
       "array([85389000, 85177090, 85369090, 39269099, 73181500, 85366990,\n",
       "       85364900, 85238090, 87089900, 33041000, 87082900, 84713010],\n",
       "      dtype=int64)"
      ]
     },
     "execution_count": 30,
     "metadata": {},
     "output_type": "execute_result"
    }
   ],
   "source": [
    "df['label'].unique() #Unique Labels (12 Classes)"
   ]
  },
  {
   "cell_type": "code",
   "execution_count": 31,
   "id": "e74dffae",
   "metadata": {},
   "outputs": [
    {
     "data": {
      "text/plain": [
       "0      pdscpm gb part of panel of chiller                                             \n",
       "1     nm  p economical extended rot hand parts for circuit breaker captive consumption\n",
       "2     lv ma pd trip unit for cvs parts of circuit breakers                            \n",
       "3     lv na p trip unit for cvs switch parts of circuit breaker                       \n",
       "4     lv tmd pd trip unit for cvs parts of circuitbreakers                            \n",
       "                              ...                                                     \n",
       "95    rhha auxiliary switch block                                                     \n",
       "96    rhnf auxiliary switch block                                                     \n",
       "97    vlhf rotary handle operator                                                     \n",
       "98    rva isolator module                                                             \n",
       "99    sbaa actuator                                                                   \n",
       "Name: text, Length: 100, dtype: object"
      ]
     },
     "execution_count": 31,
     "metadata": {},
     "output_type": "execute_result"
    }
   ],
   "source": [
    "pd.set_option('display.max_colwidth', 1)\n",
    "df['text'][0:100]"
   ]
  },
  {
   "cell_type": "code",
   "execution_count": 32,
   "id": "48481873",
   "metadata": {},
   "outputs": [
    {
     "data": {
      "text/plain": [
       "<Figure size 576x1080 with 0 Axes>"
      ]
     },
     "metadata": {},
     "output_type": "display_data"
    },
    {
     "data": {
      "image/png": "[encoded data removed]",
      "text/plain": [
       "<Figure size 432x288 with 1 Axes>"
      ]
     },
     "metadata": {
      "needs_background": "light"
     },
     "output_type": "display_data"
    }
   ],
   "source": [
    "# Imbalance Check (freq Bar)\n",
    "fig = plt.figure(figsize=(8,15))\n",
    "df.groupby('label').count().plot.bar()\n",
    "plt.show()"
   ]
  },
  {
   "cell_type": "markdown",
   "id": "53a37b08",
   "metadata": {},
   "source": [
    "### PreProcessing: \n",
    " Cleaing the Text and Lemmatization"
   ]
  },
  {
   "cell_type": "code",
   "execution_count": 33,
   "id": "1b7686f7",
   "metadata": {},
   "outputs": [],
   "source": [
    "REPLACE_BY_SPACE_RE = re.compile('[/(){}\\[\\]\\|@,;]')\n",
    "BAD_SYMBOLS_RE = re.compile('[^0-9a-z #+_]')\n",
    "STOPWORDS = set(stopwords.words('english'))\n",
    "\n",
    "def clean_text(text):\n",
    "#     text = BeautifulSoup(text, \"lxml\").text # HTML decoding\n",
    "    text = text.lower() # lowercase text\n",
    "    text = REPLACE_BY_SPACE_RE.sub(' ', text) # replace REPLACE_BY_SPACE_RE symbols by space in text\n",
    "    text = BAD_SYMBOLS_RE.sub('', text) # delete symbols which are in BAD_SYMBOLS_RE from text\n",
    "    text = ' '.join(word for word in text.split() if word not in STOPWORDS) # delete stopwors from text\n",
    "    return text\n",
    "    \n",
    "df['text'] = df['text'].apply(clean_text)\n"
   ]
  },
  {
   "cell_type": "code",
   "execution_count": 34,
   "id": "4fb09cf9",
   "metadata": {},
   "outputs": [],
   "source": [
    "# Lemmatization\n",
    "def lemmatization(text):\n",
    "    stemmer = WordNetLemmatizer()\n",
    "    text = text.split()\n",
    "\n",
    "    text = [stemmer.lemmatize(word) for word in text]\n",
    "    text = ' '.join(text)\n",
    "    return text\n",
    "    \n",
    "df['text'] = df['text'].apply(lemmatization)   "
   ]
  },
  {
   "cell_type": "code",
   "execution_count": null,
   "id": "cbb639ae",
   "metadata": {},
   "outputs": [],
   "source": []
  },
  {
   "cell_type": "markdown",
   "id": "1c920468",
   "metadata": {},
   "source": [
    "### Vectorization and TfidfTransformation"
   ]
  },
  {
   "cell_type": "code",
   "execution_count": 35,
   "id": "8626b23e",
   "metadata": {},
   "outputs": [],
   "source": [
    "vectorizer = CountVectorizer(max_features=1000, min_df=5, max_df=0.7, stop_words=stopwords.words('english'))\n",
    "X = vectorizer.fit_transform(df['text']).toarray()"
   ]
  },
  {
   "cell_type": "code",
   "execution_count": 36,
   "id": "64898cf4",
   "metadata": {},
   "outputs": [
    {
     "data": {
      "text/plain": [
       "array([[0, 0, 0, ..., 0, 0, 0],\n",
       "       [0, 0, 0, ..., 0, 0, 0],\n",
       "       [0, 0, 0, ..., 0, 0, 0],\n",
       "       ...,\n",
       "       [0, 0, 0, ..., 0, 0, 0],\n",
       "       [0, 0, 0, ..., 0, 0, 0],\n",
       "       [0, 0, 0, ..., 0, 0, 0]], dtype=int64)"
      ]
     },
     "execution_count": 36,
     "metadata": {},
     "output_type": "execute_result"
    }
   ],
   "source": [
    "X"
   ]
  },
  {
   "cell_type": "code",
   "execution_count": 37,
   "id": "e8528f9a",
   "metadata": {},
   "outputs": [],
   "source": [
    "tfidfconverter = TfidfTransformer()\n",
    "X = tfidfconverter.fit_transform(X).toarray()"
   ]
  },
  {
   "cell_type": "code",
   "execution_count": 38,
   "id": "b1e71194",
   "metadata": {},
   "outputs": [
    {
     "data": {
      "text/plain": [
       "array([[0., 0., 0., ..., 0., 0., 0.],\n",
       "       [0., 0., 0., ..., 0., 0., 0.],\n",
       "       [0., 0., 0., ..., 0., 0., 0.],\n",
       "       ...,\n",
       "       [0., 0., 0., ..., 0., 0., 0.],\n",
       "       [0., 0., 0., ..., 0., 0., 0.],\n",
       "       [0., 0., 0., ..., 0., 0., 0.]])"
      ]
     },
     "execution_count": 38,
     "metadata": {},
     "output_type": "execute_result"
    }
   ],
   "source": [
    "X"
   ]
  },
  {
   "cell_type": "code",
   "execution_count": 39,
   "id": "53d14c61",
   "metadata": {},
   "outputs": [],
   "source": [
    "X.shape\n",
    "y = df['label']  # label"
   ]
  },
  {
   "cell_type": "code",
   "execution_count": null,
   "id": "ab7ed569",
   "metadata": {},
   "outputs": [],
   "source": []
  },
  {
   "cell_type": "code",
   "execution_count": null,
   "id": "0b58f812",
   "metadata": {},
   "outputs": [],
   "source": []
  },
  {
   "cell_type": "code",
   "execution_count": 40,
   "id": "4cd6c692",
   "metadata": {},
   "outputs": [],
   "source": [
    "#Split Ratio - 85(Train):15(Test)\n",
    "X_train, X_test, y_train, y_test = train_test_split(X, y, test_size=0.15, random_state=0)"
   ]
  },
  {
   "cell_type": "code",
   "execution_count": 41,
   "id": "27cc105f",
   "metadata": {},
   "outputs": [
    {
     "data": {
      "text/plain": [
       "(20072, 1000)"
      ]
     },
     "execution_count": 41,
     "metadata": {},
     "output_type": "execute_result"
    }
   ],
   "source": [
    "X_train.shape"
   ]
  },
  {
   "cell_type": "code",
   "execution_count": 42,
   "id": "f46d6ed8",
   "metadata": {},
   "outputs": [
    {
     "data": {
      "text/plain": [
       "(3543, 1000)"
      ]
     },
     "execution_count": 42,
     "metadata": {},
     "output_type": "execute_result"
    }
   ],
   "source": [
    "X_test.shape"
   ]
  },
  {
   "cell_type": "code",
   "execution_count": 63,
   "id": "f97d093a",
   "metadata": {},
   "outputs": [],
   "source": [
    "# X_train"
   ]
  },
  {
   "cell_type": "code",
   "execution_count": 43,
   "id": "e5f214f7",
   "metadata": {},
   "outputs": [
    {
     "data": {
      "text/plain": [
       "RandomForestClassifier(n_estimators=50, random_state=0)"
      ]
     },
     "execution_count": 43,
     "metadata": {},
     "output_type": "execute_result"
    }
   ],
   "source": [
    "#RandomForest Classifier\n",
    "classifier = RandomForestClassifier(n_estimators=50, random_state=0)\n",
    "classifier.fit(X_train, y_train) "
   ]
  },
  {
   "cell_type": "markdown",
   "id": "c30d5590",
   "metadata": {},
   "source": [
    "### Prediction"
   ]
  },
  {
   "cell_type": "code",
   "execution_count": 44,
   "id": "d217f539",
   "metadata": {},
   "outputs": [],
   "source": [
    "y_pred = classifier.predict(X_test)"
   ]
  },
  {
   "cell_type": "code",
   "execution_count": 45,
   "id": "875bc8a4",
   "metadata": {},
   "outputs": [
    {
     "name": "stdout",
     "output_type": "stream",
     "text": [
      "[[257   0   0   0   0   0   0   0   0   0   0   0]\n",
      " [  1 304   8   1   5   0   0   2   6  13   2   8]\n",
      " [  1  18 255   0   4   0   0   2   2   1   1   2]\n",
      " [  0   4   0 182   0   0   0   0   0   1   0   0]\n",
      " [  0   6   0   0 355   0   0   0   1   4   0   0]\n",
      " [  0   3   0   0   0 224   0   0   1   0   0   0]\n",
      " [  0   1   0   0   0   0 259   0   5   0   0   0]\n",
      " [  0  16   1   0   0   0   6 246  13   8   0   0]\n",
      " [  0  15   3   0   3   0   9  12 330  11   0   1]\n",
      " [  0  28   2   1   1   2   1   6  10 411   0   1]\n",
      " [  0   9   0   0   0   0   0   0   0   1 199  14]\n",
      " [  0  14   1   0   0   0   1   3   1   3  13 208]]\n",
      "              precision    recall  f1-score   support\n",
      "\n",
      "    33041000       0.99      1.00      1.00       257\n",
      "    39269099       0.73      0.87      0.79       350\n",
      "    73181500       0.94      0.89      0.92       286\n",
      "    84713010       0.99      0.97      0.98       187\n",
      "    85177090       0.96      0.97      0.97       366\n",
      "    85238090       0.99      0.98      0.99       228\n",
      "    85364900       0.94      0.98      0.96       265\n",
      "    85366990       0.91      0.85      0.88       290\n",
      "    85369090       0.89      0.86      0.88       384\n",
      "    85389000       0.91      0.89      0.90       463\n",
      "    87082900       0.93      0.89      0.91       223\n",
      "    87089900       0.89      0.85      0.87       244\n",
      "\n",
      "    accuracy                           0.91      3543\n",
      "   macro avg       0.92      0.92      0.92      3543\n",
      "weighted avg       0.92      0.91      0.91      3543\n",
      "\n",
      "0.9116567880327406\n"
     ]
    }
   ],
   "source": [
    "print(confusion_matrix(y_test,y_pred))\n",
    "print(classification_report(y_test,y_pred))\n",
    "print(accuracy_score(y_test, y_pred))"
   ]
  },
  {
   "cell_type": "markdown",
   "id": "e5f97f45",
   "metadata": {},
   "source": [
    "### Using Other Models"
   ]
  },
  {
   "cell_type": "code",
   "execution_count": 68,
   "id": "915081f0",
   "metadata": {},
   "outputs": [
    {
     "data": {
      "text/plain": [
       "LinearSVC()"
      ]
     },
     "execution_count": 68,
     "metadata": {},
     "output_type": "execute_result"
    }
   ],
   "source": [
    "from sklearn.svm import LinearSVC\n",
    "svc = LinearSVC()\n",
    "svc.fit(X_train, y_train)"
   ]
  },
  {
   "cell_type": "code",
   "execution_count": 69,
   "id": "e92fed2f",
   "metadata": {},
   "outputs": [],
   "source": [
    "y_pred = svc.predict(X_test)"
   ]
  },
  {
   "cell_type": "code",
   "execution_count": 70,
   "id": "29c1cd0b",
   "metadata": {},
   "outputs": [
    {
     "name": "stdout",
     "output_type": "stream",
     "text": [
      "[[257   0   0   0   0   0   0   0   0   0   0   0]\n",
      " [  1 302   5   0   3   0   0   4   8  13   4  10]\n",
      " [  1  16 256   0   4   0   0   0   3   3   1   2]\n",
      " [  0   2   0 184   0   0   0   0   0   1   0   0]\n",
      " [  0   8   2   0 352   0   0   0   1   3   0   0]\n",
      " [  0   2   0   0   0 225   0   1   0   0   0   0]\n",
      " [  0   1   0   0   0   0 254   0   8   1   1   0]\n",
      " [  0   9   3   0   1   0   0 240  25  12   0   0]\n",
      " [  0  13   8   0   2   0  10  27 307  15   0   2]\n",
      " [  0  18   4   0   2   0   0   9  23 404   2   1]\n",
      " [  0   6   1   0   0   0   0   0   2   1 196  17]\n",
      " [  0  12   1   0   0   0   0   1   4   4  16 206]]\n",
      "              precision    recall  f1-score   support\n",
      "\n",
      "    33041000       0.99      1.00      1.00       257\n",
      "    39269099       0.78      0.86      0.82       350\n",
      "    73181500       0.91      0.90      0.90       286\n",
      "    84713010       1.00      0.98      0.99       187\n",
      "    85177090       0.97      0.96      0.96       366\n",
      "    85238090       1.00      0.99      0.99       228\n",
      "    85364900       0.96      0.96      0.96       265\n",
      "    85366990       0.85      0.83      0.84       290\n",
      "    85369090       0.81      0.80      0.80       384\n",
      "    85389000       0.88      0.87      0.88       463\n",
      "    87082900       0.89      0.88      0.88       223\n",
      "    87089900       0.87      0.84      0.85       244\n",
      "\n",
      "    accuracy                           0.90      3543\n",
      "   macro avg       0.91      0.91      0.91      3543\n",
      "weighted avg       0.90      0.90      0.90      3543\n",
      "\n",
      "0.8983911939034717\n"
     ]
    }
   ],
   "source": [
    "print(confusion_matrix(y_test,y_pred))\n",
    "print(classification_report(y_test,y_pred))\n",
    "print(accuracy_score(y_test, y_pred))"
   ]
  },
  {
   "cell_type": "markdown",
   "id": "56aee0cf",
   "metadata": {},
   "source": [
    "### Comparision with Other Model and Cross-Validation"
   ]
  },
  {
   "cell_type": "code",
   "execution_count": 72,
   "id": "6598a55e",
   "metadata": {},
   "outputs": [],
   "source": [
    "models = [\n",
    "    RandomForestClassifier(n_estimators=50, random_state=0),\n",
    "    LinearSVC(),\n",
    "    MultinomialNB(),\n",
    "    LogisticRegression(random_state=0, solver='sag'),\n",
    "]\n",
    "\n",
    "# 5 Cross-validation\n",
    "CV = 5\n",
    "cv_df = pd.DataFrame(index=range(CV * len(models)))\n",
    "\n",
    "entries = []\n",
    "for model in models:\n",
    "    model_name = model.__class__.__name__\n",
    "    accuracies = cross_val_score(model, X, y, scoring='accuracy', cv=CV)\n",
    "    for fold_idx, accuracy in enumerate(accuracies):\n",
    "        entries.append((model_name, fold_idx, accuracy))\n",
    "    \n",
    "cv_df = pd.DataFrame(entries, columns=['model_name', 'fold_idx', 'accuracy'])"
   ]
  },
  {
   "cell_type": "markdown",
   "id": "f26bf957",
   "metadata": {},
   "source": [
    "#### Visualizing Mean Accuracy and their Standard Deviation"
   ]
  },
  {
   "cell_type": "code",
   "execution_count": 74,
   "id": "bd5560ba",
   "metadata": {},
   "outputs": [
    {
     "data": {
      "text/html": [
       "<div>\n",
       "<style scoped>\n",
       "    .dataframe tbody tr th:only-of-type {\n",
       "        vertical-align: middle;\n",
       "    }\n",
       "\n",
       "    .dataframe tbody tr th {\n",
       "        vertical-align: top;\n",
       "    }\n",
       "\n",
       "    .dataframe thead th {\n",
       "        text-align: right;\n",
       "    }\n",
       "</style>\n",
       "<table border=\"1\" class=\"dataframe\">\n",
       "  <thead>\n",
       "    <tr style=\"text-align: right;\">\n",
       "      <th></th>\n",
       "      <th>Mean Accuracy</th>\n",
       "      <th>Standard deviation</th>\n",
       "    </tr>\n",
       "    <tr>\n",
       "      <th>model_name</th>\n",
       "      <th></th>\n",
       "      <th></th>\n",
       "    </tr>\n",
       "  </thead>\n",
       "  <tbody>\n",
       "    <tr>\n",
       "      <th>LinearSVC</th>\n",
       "      <td>0.870040</td>\n",
       "      <td>0.011178</td>\n",
       "    </tr>\n",
       "    <tr>\n",
       "      <th>LogisticRegression</th>\n",
       "      <td>0.866229</td>\n",
       "      <td>0.014731</td>\n",
       "    </tr>\n",
       "    <tr>\n",
       "      <th>MultinomialNB</th>\n",
       "      <td>0.833623</td>\n",
       "      <td>0.016996</td>\n",
       "    </tr>\n",
       "    <tr>\n",
       "      <th>RandomForestClassifier</th>\n",
       "      <td>0.886809</td>\n",
       "      <td>0.013047</td>\n",
       "    </tr>\n",
       "  </tbody>\n",
       "</table>\n",
       "</div>"
      ],
      "text/plain": [
       "                        Mean Accuracy  Standard deviation\n",
       "model_name                                               \n",
       "LinearSVC               0.870040       0.011178          \n",
       "LogisticRegression      0.866229       0.014731          \n",
       "MultinomialNB           0.833623       0.016996          \n",
       "RandomForestClassifier  0.886809       0.013047          "
      ]
     },
     "execution_count": 74,
     "metadata": {},
     "output_type": "execute_result"
    }
   ],
   "source": [
    "mean_accuracy = cv_df.groupby('model_name').accuracy.mean()\n",
    "std_accuracy = cv_df.groupby('model_name').accuracy.std()\n",
    "\n",
    "acc = pd.concat([mean_accuracy, std_accuracy], axis= 1, \n",
    "          ignore_index=True)\n",
    "acc.columns = ['Mean Accuracy', 'Standard deviation']\n",
    "acc"
   ]
  },
  {
   "cell_type": "code",
   "execution_count": 75,
   "id": "bbdc2ddf",
   "metadata": {},
   "outputs": [
    {
     "data": {
      "text/plain": [
       "Text(0.5, 1.0, 'MEAN ACCURACY (cv = 5)\\n')"
      ]
     },
     "execution_count": 75,
     "metadata": {},
     "output_type": "execute_result"
    },
    {
     "data": {
      "image/png": "[encoded data removed]",
      "text/plain": [
       "<Figure size 576x360 with 1 Axes>"
      ]
     },
     "metadata": {
      "needs_background": "light"
     },
     "output_type": "display_data"
    }
   ],
   "source": [
    "import seaborn as sns\n",
    "plt.figure(figsize=(8,5))\n",
    "sns.boxplot(x='model_name', y='accuracy', \n",
    "            data=cv_df, \n",
    "            color='lightblue', \n",
    "            showmeans=True)\n",
    "plt.title(\"MEAN ACCURACY (cv = 5)\\n\", size=14)"
   ]
  },
  {
   "cell_type": "markdown",
   "id": "e042eaea",
   "metadata": {},
   "source": [
    "Linear SVM and Logistic Regression model are having low standard deviation for Accuracy,  \n",
    "but the best accuracy is still achieved by Random Forest Classifier"
   ]
  },
  {
   "cell_type": "markdown",
   "id": "3979151e",
   "metadata": {},
   "source": [
    "##### Training Best Model on Whole Test Dataset"
   ]
  },
  {
   "cell_type": "code",
   "execution_count": 54,
   "id": "77c6d349",
   "metadata": {},
   "outputs": [],
   "source": [
    "#best model\n",
    "model = RandomForestClassifier(n_estimators=50, random_state=0)\n",
    "model.fit(X, y)\n",
    "y_pred = model.predict(X_test)"
   ]
  },
  {
   "cell_type": "code",
   "execution_count": 55,
   "id": "5409d4ab",
   "metadata": {},
   "outputs": [
    {
     "name": "stdout",
     "output_type": "stream",
     "text": [
      "\t\tCLASSIFICATIION METRICS\n",
      "\n",
      "              precision    recall  f1-score   support\n",
      "\n",
      "    33041000       1.00      1.00      1.00       257\n",
      "    39269099       0.85      0.97      0.91       350\n",
      "    73181500       0.99      0.94      0.96       286\n",
      "    84713010       1.00      0.98      0.99       187\n",
      "    85177090       0.99      0.98      0.99       366\n",
      "    85238090       1.00      1.00      1.00       228\n",
      "    85364900       1.00      0.98      0.99       265\n",
      "    85366990       0.98      0.93      0.96       290\n",
      "    85369090       0.96      0.97      0.96       384\n",
      "    85389000       0.98      0.97      0.97       463\n",
      "    87082900       0.97      0.95      0.96       223\n",
      "    87089900       0.97      0.95      0.96       244\n",
      "\n",
      "    accuracy                           0.97      3543\n",
      "   macro avg       0.97      0.97      0.97      3543\n",
      "weighted avg       0.97      0.97      0.97      3543\n",
      "\n"
     ]
    }
   ],
   "source": [
    "print('\\t\\tCLASSIFICATIION METRICS\\n')\n",
    "print(classification_report(y_test, y_pred))  # Training Acc"
   ]
  },
  {
   "cell_type": "code",
   "execution_count": null,
   "id": "dd07acd6",
   "metadata": {},
   "outputs": [],
   "source": [
    "conf_mat = confusion_matrix(y_test, y_pred)\n",
    "fig, ax = plt.subplots(figsize=(8,8))\n",
    "sns.heatmap(conf_mat, annot=True, cmap=\"Blues\", fmt='d',\n",
    "            xticklabels=df['label'].values, \n",
    "            yticklabels=df['label'].values)\n",
    "plt.ylabel('Actual')\n",
    "plt.xlabel('Predicted')\n",
    "plt.title(\"CONFUSION MATRIX - RandomForest\\n\", size=16);"
   ]
  },
  {
   "cell_type": "code",
   "execution_count": 56,
   "id": "147da7fe",
   "metadata": {},
   "outputs": [],
   "source": [
    "# Preprocessing for Test Dataset\n",
    "def preprocessing(df):\n",
    "    df['text'] = df['text'].apply(clean_text)\n",
    "    df['text'] = df['text'].apply(lemmatization)\n",
    "    vectorizer = CountVectorizer(max_features=1000, min_df=5, max_df=0.7, stop_words=stopwords.words('english'))\n",
    "    X = vectorizer.fit_transform(df['text']).toarray()\n",
    "    tfidfconverter = TfidfTransformer()\n",
    "    X = tfidfconverter.fit_transform(X).toarray()\n",
    "    return X\n",
    "    "
   ]
  },
  {
   "cell_type": "markdown",
   "id": "bd95f9e1",
   "metadata": {},
   "source": [
    "##### Prediction on Test Dataset by Random Forest Classifier"
   ]
  },
  {
   "cell_type": "code",
   "execution_count": 57,
   "id": "64b56e3f",
   "metadata": {},
   "outputs": [],
   "source": [
    "test_df = pd.read_csv('test_set.csv')\n",
    "test_data = preprocessing(test_df)\n",
    "\n",
    "test_label_pred = model.predict(test_data)\n",
    "prediction = pd.DataFrame(test_label_pred, columns=['predicted_label']).to_csv('prediction.csv')"
   ]
  },
  {
   "cell_type": "code",
   "execution_count": null,
   "id": "9084bb1d",
   "metadata": {},
   "outputs": [],
   "source": []
  }
 ],
 "metadata": {
  "kernelspec": {
   "display_name": "Python 3",
   "language": "python",
   "name": "python3"
  },
  "language_info": {
   "codemirror_mode": {
    "name": "ipython",
    "version": 3
   },
   "file_extension": ".py",
   "mimetype": "text/x-python",
   "name": "python",
   "nbconvert_exporter": "python",
   "pygments_lexer": "ipython3",
   "version": "3.8.8"
  }
 },
 "nbformat": 4,
 "nbformat_minor": 5
}
